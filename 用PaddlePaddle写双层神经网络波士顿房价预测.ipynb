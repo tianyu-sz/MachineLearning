{
 "cells": [
  {
   "cell_type": "markdown",
   "metadata": {},
   "source": [
    "### 这篇是用 paddlepaddle 写房价预测\n",
    "\n",
    "\n",
    "\n"
   ]
  },
  {
   "cell_type": "code",
   "execution_count": 1,
   "metadata": {
    "collapsed": true,
    "pycharm": {
     "is_executing": false,
     "name": "#%%\n"
    }
   },
   "outputs": [],
   "source": [
    "\n",
    "#加载飞桨、Numpy和相关类库\n",
    "\n",
    "import matplotlib.pyplot as plt\n",
    "import numpy as np\n",
    "import paddle.fluid as fluid\n",
    "import paddle.fluid.dygraph as dygraph\n",
    "from paddle.fluid.dygraph import FC\n",
    "\n",
    "# 数据加载工具类\n",
    "from util.housing_util import load_data, load_one_example\n",
    "\n",
    "# 加载数据后的统计值变量，在 load_data 后设置，为最大，最小，平均。用于计算归一化值\n",
    "global all_stastic\n",
    "\n",
    "\n"
   ]
  },
  {
   "cell_type": "markdown",
   "metadata": {},
   "source": [
    "\n",
    "### 1.数据预处理 ，直接加载之前的工具类housing_util.py，一致的\n",
    "### 2.模型设计\n",
    "\n",
    "这里设计双层网络。一层输入层，一层隐层\n",
    "\n",
    "\n"
   ]
  },
  {
   "cell_type": "code",
   "execution_count": 2,
   "metadata": {
    "pycharm": {
     "is_executing": false,
     "name": "#%%\n"
    }
   },
   "outputs": [],
   "source": [
    "\n",
    "class Regressor(fluid.dygraph.Layer):\n",
    "    \n",
    "    def __init__(self, name_scope) :\n",
    "        super(Regressor,self).__init__(name_scope)\n",
    "        name_scope = self.full_name()\n",
    "        \n",
    "        # 定义全连接层，这里没加 bias。和设计的算法有点出入，后面看下API 说明加上\n",
    "        self.fc1 = FC(name_scope, size=13, act=None)\n",
    "        self.fc2 = FC(name_scope, size=1, act=None)\n",
    "        \n",
    "        \n",
    "    # 网络前向计算函数\n",
    "    def forward(self, inputs):\n",
    "        a_h = self.fc1(inputs)\n",
    "        y = self.fc2(a_h)\n",
    "        \n",
    "        return y\n",
    "    \n",
    "    \n",
    "\n",
    "        \n",
    "  \n",
    " "
   ]
  },
  {
   "cell_type": "markdown",
   "metadata": {
    "pycharm": {
     "name": "#%% md\n"
    }
   },
   "source": [
    "### 3.训练配置\n",
    "\n"
   ]
  },
  {
   "cell_type": "code",
   "execution_count": 3,
   "metadata": {
    "pycharm": {
     "is_executing": false,
     "name": "#%%\n"
    }
   },
   "outputs": [
    {
     "name": "stdout",
     "text": [
      "[array([ 88.9762, 100.    ,  25.65  ,   1.    ,   0.871 ,   8.78  ,\n",
      "       100.    ,  12.1265,  24.    , 666.    ,  22.    , 396.9   ,\n",
      "        37.97  ,  50.    ]), array([6.3200e-03, 0.0000e+00, 4.6000e-01, 0.0000e+00, 3.8500e-01,\n",
      "       3.5610e+00, 2.9000e+00, 1.1296e+00, 1.0000e+00, 1.8700e+02,\n",
      "       1.2600e+01, 7.0800e+01, 1.7300e+00, 5.0000e+00]), array([1.91589931e+00, 1.42326733e+01, 9.50232673e+00, 8.66336634e-02,\n",
      "       5.31731931e-01, 6.33310891e+00, 6.44274752e+01, 4.17421361e+00,\n",
      "       6.78960396e+00, 3.52910891e+02, 1.80262376e+01, 3.79971757e+02,\n",
      "       1.13549505e+01, 2.41757426e+01])]\n"
     ],
     "output_type": "stream"
    }
   ],
   "source": [
    "with fluid.dygraph.guard():\n",
    "    model = Regressor(\"Regressor\")\n",
    "    \n",
    "    # 开启模型训练模式\n",
    "    model.train()\n",
    "    \n",
    "    \n",
    "    # 加载数据\n",
    "    training_data, test_data , my_all_stastic = load_data()\n",
    "    \n",
    "    all_stastic = my_all_stastic\n",
    "    print(all_stastic)\n",
    "    # 学习率设置为 0.01\n",
    "    opt = fluid.optimizer.SGD(learning_rate=0.01)\n",
    "\n",
    "\n",
    "\n"
   ]
  },
  {
   "cell_type": "markdown",
   "metadata": {
    "pycharm": {
     "name": "#%% md\n"
    }
   },
   "source": [
    "\n",
    "### 4.训练并保存模型\n",
    "\n",
    "这里用的 mini-batch 方式直接copy 过来的\n",
    "\n",
    "\n"
   ]
  },
  {
   "cell_type": "code",
   "execution_count": 4,
   "metadata": {
    "pycharm": {
     "is_executing": false,
     "name": "#%% \n"
    }
   },
   "outputs": [
    {
     "name": "stdout",
     "text": [
      "以参数 epoch: 500, batch_size: 404 训练完成.模型保存成功，模型参数保存在LR_model中\n"
     ],
     "output_type": "stream"
    },
    {
     "data": {
      "text/plain": "<Figure size 432x288 with 1 Axes>",
      "image/png": "[encoded data removed]"
     },
     "metadata": {
      "needs_background": "light"
     },
     "output_type": "display_data"
    }
   ],
   "source": [
    "\n",
    "# 这里定义一个训练过程绘图的函数\n",
    "iter=0\n",
    "iters=[]\n",
    "train_costs=[]\n",
    "\n",
    "def draw_train_process(iters_param, train_costs_param):\n",
    "    title=\"training cost\"\n",
    "    plt.title(title, fontsize=24)\n",
    "    plt.xlabel(\"iter\", fontsize=14)\n",
    "    plt.ylabel(\"cost\", fontsize=14)\n",
    "    plt.plot(iters_param, train_costs_param,color='red',label='training cost') \n",
    "    plt.grid()\n",
    "    plt.show()\n",
    "    \n",
    "    \n",
    "# 开始训练\n",
    "with dygraph.guard():\n",
    "    EPOCH_NUM = 500   # 设置外层循环次数\n",
    "    BATCH_SIZE = 404  # 设置batch大小\n",
    "    \n",
    "    # 定义外层循环\n",
    "    for epoch_id in range(EPOCH_NUM):\n",
    "        # 在每轮迭代开始之前，将训练数据的顺序随机的打乱\n",
    "        np.random.shuffle(training_data)\n",
    "        # 将训练数据进行拆分，每个batch包含BATCH_SIZE条数据\n",
    "        mini_batches = [training_data[k:k+BATCH_SIZE] for k in range(0, len(training_data), BATCH_SIZE)]\n",
    "        # 定义内层循环\n",
    "        for iter_id, mini_batch in enumerate(mini_batches):\n",
    "            x = np.array(mini_batch[:, :-1]).astype('float32') # 获得当前批次训练数据\n",
    "            y = np.array(mini_batch[:, -1:]).astype('float32') # 获得当前批次训练标签（真实房价）\n",
    "            # 将numpy数据转为飞桨动态图variable形式\n",
    "            house_features = dygraph.to_variable(x)\n",
    "            prices = dygraph.to_variable(y)\n",
    "            \n",
    "            # print(house_features)\n",
    "            # 前向计算\n",
    "            \n",
    "            predicts = model(house_features)\n",
    "            \n",
    "            # 计算损失\n",
    "            loss = fluid.layers.square_error_cost(predicts, label=prices)\n",
    "            avg_loss = fluid.layers.mean(loss)\n",
    "            # if iter_id%20==0:\n",
    "            #     print(\"epoch: {}, iter: {}, loss is: {}\".format(epoch_id, iter_id, avg_loss.numpy()))\n",
    "            \n",
    "            \n",
    "            iter=iter+BATCH_SIZE\n",
    "            iters.append(iter)\n",
    "            train_costs.append(avg_loss.numpy()[0])\n",
    "            \n",
    "            \n",
    "            # 反向传播\n",
    "            avg_loss.backward()\n",
    "            # 最小化loss,更新参数\n",
    "            opt.minimize(avg_loss)\n",
    "            # 清除梯度\n",
    "            model.clear_gradients()\n",
    "            \n",
    "    # 保存模型\n",
    "    fluid.save_dygraph(model.state_dict(), 'LR_model')\n",
    "    print(\"以参数 epoch: {0}, batch_size: {1} 训练完成.模型保存成功，模型参数保存在LR_model中\".format(EPOCH_NUM,BATCH_SIZE))\n",
    "    \n",
    "draw_train_process(iters,train_costs)\n",
    "    "
   ]
  },
  {
   "cell_type": "markdown",
   "metadata": {
    "pycharm": {
     "name": "#%% md\n"
    }
   },
   "source": [
    "### 5. 测试模型，对所有结果进行预测并画出图\n",
    "\n"
   ]
  },
  {
   "cell_type": "code",
   "execution_count": 5,
   "outputs": [
    {
     "name": "stdout",
     "text": [
      "预测结果 is [[8.218459]], 标签结果 is 8.5\n",
      "预测结果 is [[4.348097]], 标签结果 is 5.0\n",
      "预测结果 is [[7.1167984]], 标签结果 is 11.9\n",
      "预测结果 is [[13.962613]], 标签结果 is 27.9\n",
      "预测结果 is [[15.29248]], 标签结果 is 17.2\n",
      "预测结果 is [[14.033442]], 标签结果 is 27.5\n",
      "预测结果 is [[-5.885618]], 标签结果 is 15.0\n",
      "预测结果 is [[7.688452]], 标签结果 is 17.2\n",
      "预测结果 is [[-2.6644363]], 标签结果 is 17.9\n",
      "预测结果 is [[4.192547]], 标签结果 is 16.3\n",
      "预测结果 is [[-7.4674816]], 标签结果 is 7.0\n",
      "预测结果 is [[4.7654343]], 标签结果 is 7.199999999999999\n",
      "预测结果 is [[8.325978]], 标签结果 is 7.5\n",
      "预测结果 is [[2.5437279]], 标签结果 is 10.4\n",
      "预测结果 is [[-9.898819]], 标签结果 is 8.8\n",
      "预测结果 is [[10.014078]], 标签结果 is 8.4\n",
      "预测结果 is [[16.4884]], 标签结果 is 16.7\n",
      "预测结果 is [[15.870679]], 标签结果 is 14.2\n",
      "预测结果 is [[13.410357]], 标签结果 is 20.8\n",
      "预测结果 is [[5.9772034]], 标签结果 is 13.4\n",
      "预测结果 is [[4.269991]], 标签结果 is 11.7\n",
      "预测结果 is [[2.1209755]], 标签结果 is 8.300000000000002\n",
      "预测结果 is [[6.442566]], 标签结果 is 10.2\n",
      "预测结果 is [[0.34069252]], 标签结果 is 10.9\n",
      "预测结果 is [[9.913607]], 标签结果 is 11.0\n",
      "预测结果 is [[7.7203484]], 标签结果 is 9.5\n",
      "预测结果 is [[9.889351]], 标签结果 is 14.5\n",
      "预测结果 is [[11.153068]], 标签结果 is 14.1\n",
      "预测结果 is [[11.798416]], 标签结果 is 16.1\n",
      "预测结果 is [[10.046621]], 标签结果 is 14.3\n",
      "预测结果 is [[6.73514]], 标签结果 is 11.7\n",
      "预测结果 is [[9.765675]], 标签结果 is 13.4\n",
      "预测结果 is [[5.1849384]], 标签结果 is 9.6\n",
      "预测结果 is [[2.7099552]], 标签结果 is 8.7\n",
      "预测结果 is [[5.51548]], 标签结果 is 8.4\n",
      "预测结果 is [[16.715393]], 标签结果 is 12.8\n",
      "预测结果 is [[14.756152]], 标签结果 is 10.500000000000002\n",
      "预测结果 is [[19.307169]], 标签结果 is 17.1\n",
      "预测结果 is [[19.417133]], 标签结果 is 18.4\n",
      "预测结果 is [[19.494427]], 标签结果 is 15.4\n",
      "预测结果 is [[10.839278]], 标签结果 is 10.8\n",
      "预测结果 is [[6.646883]], 标签结果 is 11.800000000000002\n",
      "预测结果 is [[17.142595]], 标签结果 is 14.9\n",
      "预测结果 is [[18.478252]], 标签结果 is 12.6\n",
      "预测结果 is [[18.688707]], 标签结果 is 14.1\n",
      "预测结果 is [[16.748539]], 标签结果 is 13.0\n",
      "预测结果 is [[7.1304035]], 标签结果 is 13.4\n",
      "预测结果 is [[20.070698]], 标签结果 is 15.2\n",
      "预测结果 is [[20.069353]], 标签结果 is 16.1\n",
      "预测结果 is [[23.512526]], 标签结果 is 17.8\n",
      "预测结果 is [[6.4613113]], 标签结果 is 14.9\n",
      "预测结果 is [[8.821814]], 标签结果 is 14.1\n",
      "预测结果 is [[4.530573]], 标签结果 is 12.7\n",
      "预测结果 is [[3.6717663]], 标签结果 is 13.5\n",
      "预测结果 is [[15.447131]], 标签结果 is 14.9\n",
      "预测结果 is [[19.336182]], 标签结果 is 20.0\n",
      "预测结果 is [[16.977768]], 标签结果 is 16.4\n",
      "预测结果 is [[20.988504]], 标签结果 is 17.7\n",
      "预测结果 is [[20.540108]], 标签结果 is 19.5\n",
      "预测结果 is [[20.824621]], 标签结果 is 20.2\n",
      "预测结果 is [[21.400112]], 标签结果 is 21.4\n",
      "预测结果 is [[19.14902]], 标签结果 is 19.9\n",
      "预测结果 is [[5.490736]], 标签结果 is 19.0\n",
      "预测结果 is [[17.671751]], 标签结果 is 19.1\n",
      "预测结果 is [[17.776363]], 标签结果 is 19.1\n",
      "预测结果 is [[19.437788]], 标签结果 is 20.1\n",
      "预测结果 is [[21.220871]], 标签结果 is 19.9\n",
      "预测结果 is [[21.264263]], 标签结果 is 19.6\n",
      "预测结果 is [[23.25018]], 标签结果 is 23.2\n",
      "预测结果 is [[25.333162]], 标签结果 is 29.8\n",
      "预测结果 is [[14.9477005]], 标签结果 is 13.8\n",
      "预测结果 is [[17.051613]], 标签结果 is 13.3\n",
      "预测结果 is [[22.227215]], 标签结果 is 16.7\n",
      "预测结果 is [[12.852149]], 标签结果 is 12.0\n",
      "预测结果 is [[18.918112]], 标签结果 is 14.6\n",
      "预测结果 is [[19.08139]], 标签结果 is 21.4\n",
      "预测结果 is [[22.635324]], 标签结果 is 23.0\n",
      "预测结果 is [[24.101643]], 标签结果 is 23.7\n",
      "预测结果 is [[25.387089]], 标签结果 is 25.0\n",
      "预测结果 is [[22.151981]], 标签结果 is 21.8\n",
      "预测结果 is [[21.74923]], 标签结果 is 20.6\n",
      "预测结果 is [[23.15252]], 标签结果 is 21.2\n",
      "预测结果 is [[20.34962]], 标签结果 is 19.1\n",
      "预测结果 is [[21.618986]], 标签结果 is 20.6\n",
      "预测结果 is [[18.400574]], 标签结果 is 15.2\n",
      "预测结果 is [[16.069916]], 标签结果 is 7.0\n",
      "预测结果 is [[13.727588]], 标签结果 is 8.099999999999998\n",
      "预测结果 is [[20.191135]], 标签结果 is 13.6\n",
      "预测结果 is [[21.26036]], 标签结果 is 20.1\n",
      "预测结果 is [[21.388958]], 标签结果 is 21.8\n",
      "预测结果 is [[23.300234]], 标签结果 is 24.5\n",
      "预测结果 is [[22.805115]], 标签结果 is 23.1\n",
      "预测结果 is [[18.382767]], 标签结果 is 19.7\n",
      "预测结果 is [[20.155554]], 标签结果 is 18.3\n",
      "预测结果 is [[21.98271]], 标签结果 is 21.2\n",
      "预测结果 is [[19.303833]], 标签结果 is 17.5\n",
      "预测结果 is [[20.902266]], 标签结果 is 16.8\n",
      "预测结果 is [[20.7146]], 标签结果 is 22.4\n",
      "预测结果 is [[18.2626]], 标签结果 is 20.6\n",
      "预测结果 is [[21.172607]], 标签结果 is 23.9\n",
      "预测结果 is [[20.149115]], 标签结果 is 22.0\n",
      "预测结果 is [[17.312868]], 标签结果 is 11.9\n"
     ],
     "output_type": "stream"
    }
   ],
   "source": [
    "with dygraph.guard():\n",
    "    model_dict, _ = fluid.load_dygraph(\"LR_model\")\n",
    "    model.load_dict(model_dict)\n",
    "    # 设置到预测状态\n",
    "    model.eval()\n",
    "    for j in range(0,len(test_data)):\n",
    "        current_test_data, label = load_one_example(j,test_data)\n",
    "        current_test_data = dygraph.to_variable(current_test_data)\n",
    "        results = model(current_test_data)\n",
    "        max_values = all_stastic[0]\n",
    "        min_values = all_stastic[1]\n",
    "        avg_values = all_stastic[2]\n",
    "        \n",
    "        results = results * (max_values[-1] - min_values[-1]) + avg_values[-1]\n",
    "        label = label * (max_values[-1] - min_values[-1]) + avg_values[-1]\n",
    "        \n",
    "        \n",
    "        print(\"预测结果 is {}, 标签结果 is {}\".format(results.numpy(), label))\n",
    "\n"
   ],
   "metadata": {
    "collapsed": false,
    "pycharm": {
     "name": "#%%\n",
     "is_executing": false
    }
   }
  },
  {
   "cell_type": "markdown",
   "source": [
    "### 如何评价测试结果呢？\n",
    "\n",
    "\n",
    "\n",
    "\n"
   ],
   "metadata": {
    "collapsed": false,
    "pycharm": {
     "name": "#%% md\n",
     "is_executing": false
    }
   }
  }
 ],
 "metadata": {
  "kernelspec": {
   "display_name": "Python 3",
   "language": "python",
   "name": "python3"
  },
  "language_info": {
   "codemirror_mode": {
    "name": "ipython",
    "version": 3
   },
   "file_extension": ".py",
   "mimetype": "text/x-python",
   "name": "python",
   "nbconvert_exporter": "python",
   "pygments_lexer": "ipython3",
   "version": "3.7.0"
  },
  "pycharm": {
   "stem_cell": {
    "cell_type": "raw",
    "source": [
     "\n"
    ],
    "metadata": {
     "collapsed": false
    }
   }
  },
  "toc": {
   "base_numbering": 1,
   "nav_menu": {},
   "number_sections": true,
   "sideBar": true,
   "skip_h1_title": false,
   "title_cell": "Table of Contents",
   "title_sidebar": "Contents",
   "toc_cell": false,
   "toc_position": {},
   "toc_section_display": true,
   "toc_window_display": false
  },
  "varInspector": {
   "cols": {
    "lenName": 16,
    "lenType": 16,
    "lenVar": 40
   },
   "kernels_config": {
    "python": {
     "delete_cmd_postfix": "",
     "delete_cmd_prefix": "del ",
     "library": "var_list.py",
     "varRefreshCmd": "print(var_dic_list())"
    },
    "r": {
     "delete_cmd_postfix": ") ",
     "delete_cmd_prefix": "rm(",
     "library": "var_list.r",
     "varRefreshCmd": "cat(var_dic_list()) "
    }
   },
   "types_to_exclude": [
    "module",
    "function",
    "builtin_function_or_method",
    "instance",
    "_Feature"
   ],
   "window_display": false
  }
 },
 "nbformat": 4,
 "nbformat_minor": 1
}