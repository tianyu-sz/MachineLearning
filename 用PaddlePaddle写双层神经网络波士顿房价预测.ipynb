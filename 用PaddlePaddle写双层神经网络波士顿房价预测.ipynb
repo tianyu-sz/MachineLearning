{
 "cells": [
  {
   "cell_type": "markdown",
   "metadata": {},
   "source": [
    "### 这篇是用 paddlepaddle 写房价预测\n"
   ]
  },
  {
   "cell_type": "code",
   "execution_count": 1,
   "metadata": {
    "collapsed": true,
    "pycharm": {
     "is_executing": false,
     "name": "#%%\n"
    }
   },
   "outputs": [],
   "source": [
    "\n",
    "#加载飞桨、Numpy和相关类库\n",
    "\n",
    "import matplotlib.pyplot as plt\n",
    "import numpy as np\n",
    "import paddle.fluid as fluid\n",
    "import paddle.fluid.dygraph as dygraph\n",
    "from paddle.fluid.dygraph import FC\n",
    "\n",
    "# 数据加载工具类\n",
    "from util.housing_util import load_data, load_one_example\n",
    "\n",
    "# 加载数据后的统计值变量，在 load_data 后设置，为最大，最小，平均。用于计算归一化值\n",
    "global all_stastic\n",
    "\n",
    "\n"
   ]
  },
  {
   "cell_type": "markdown",
   "metadata": {},
   "source": [
    "\n",
    "### 1.数据预处理 ，直接加载之前的工具类housing_util.py，一致的\n",
    "### 2.模型设计\n",
    "\n",
    "这里设计双层网络。一层输入层，一层隐层\n",
    "\n",
    "\n"
   ]
  },
  {
   "cell_type": "code",
   "execution_count": 2,
   "metadata": {
    "pycharm": {
     "is_executing": false,
     "name": "#%%\n"
    }
   },
   "outputs": [],
   "source": [
    "\n",
    "class Regressor(fluid.dygraph.Layer):\n",
    "    \n",
    "    def __init__(self, name_scope) :\n",
    "        super(Regressor,self).__init__(name_scope)\n",
    "        name_scope = self.full_name()\n",
    "        \n",
    "        # 定义全连接层，这里没加 bias。和设计的算法有点出入，后面看下API 说明加上\n",
    "        self.fc1 = FC(name_scope, size=13, act=None)\n",
    "        self.fc2 = FC(name_scope, size=1, act=None)\n",
    "        \n",
    "        \n",
    "    # 网络前向计算函数\n",
    "    def forward(self, inputs):\n",
    "        a_h = self.fc1(inputs)\n",
    "        y = self.fc2(a_h)\n",
    "        \n",
    "        return y\n",
    "    \n",
    "    \n",
    "\n",
    "        \n",
    "  \n",
    " "
   ]
  },
  {
   "cell_type": "markdown",
   "metadata": {
    "pycharm": {
     "name": "#%% md\n"
    }
   },
   "source": [
    "### 3.训练配置\n",
    "\n"
   ]
  },
  {
   "cell_type": "code",
   "execution_count": 3,
   "metadata": {
    "pycharm": {
     "is_executing": false,
     "name": "#%%\n"
    }
   },
   "outputs": [
    {
     "name": "stdout",
     "text": [
      "[array([ 88.9762, 100.    ,  25.65  ,   1.    ,   0.871 ,   8.78  ,\n",
      "       100.    ,  12.1265,  24.    , 666.    ,  22.    , 396.9   ,\n",
      "        37.97  ,  50.    ]), array([6.3200e-03, 0.0000e+00, 4.6000e-01, 0.0000e+00, 3.8500e-01,\n",
      "       3.5610e+00, 2.9000e+00, 1.1296e+00, 1.0000e+00, 1.8700e+02,\n",
      "       1.2600e+01, 7.0800e+01, 1.7300e+00, 5.0000e+00]), array([1.91589931e+00, 1.42326733e+01, 9.50232673e+00, 8.66336634e-02,\n",
      "       5.31731931e-01, 6.33310891e+00, 6.44274752e+01, 4.17421361e+00,\n",
      "       6.78960396e+00, 3.52910891e+02, 1.80262376e+01, 3.79971757e+02,\n",
      "       1.13549505e+01, 2.41757426e+01])]\n"
     ],
     "output_type": "stream"
    }
   ],
   "source": [
    "with fluid.dygraph.guard():\n",
    "    model = Regressor(\"Regressor\")\n",
    "    \n",
    "    # 开启模型训练模式\n",
    "    model.train()\n",
    "    \n",
    "    \n",
    "    # 加载数据\n",
    "    training_data, test_data , my_all_stastic = load_data()\n",
    "    \n",
    "    all_stastic = my_all_stastic\n",
    "    print(all_stastic)\n",
    "    # 学习率设置为 0.01\n",
    "    opt = fluid.optimizer.SGD(learning_rate=0.005)\n",
    "\n",
    "\n",
    "\n"
   ]
  },
  {
   "cell_type": "markdown",
   "metadata": {
    "pycharm": {
     "name": "#%% md\n"
    }
   },
   "source": [
    "\n",
    "### 4.训练并保存模型\n",
    "\n",
    "这里用的 mini-batch 方式直接copy 过来的\n",
    "\n",
    "\n"
   ]
  },
  {
   "cell_type": "code",
   "execution_count": 4,
   "metadata": {
    "pycharm": {
     "is_executing": false,
     "name": "#%% \n"
    }
   },
   "outputs": [
    {
     "name": "stdout",
     "text": [
      "以参数 epoch: 10000, batch_size: 404 训练完成.模型保存成功，模型参数保存在LR_model中\n"
     ],
     "output_type": "stream"
    },
    {
     "data": {
      "text/plain": "<Figure size 432x288 with 1 Axes>",
      "image/png": "[encoded data removed]"
     },
     "metadata": {
      "needs_background": "light"
     },
     "output_type": "display_data"
    }
   ],
   "source": [
    "\n",
    "# 这里定义一个训练过程绘图的函数\n",
    "iter=0\n",
    "iters=[]\n",
    "train_costs=[]\n",
    "\n",
    "def draw_train_process(iters_param, train_costs_param):\n",
    "    title=\"training cost\"\n",
    "    plt.title(title, fontsize=24)\n",
    "    plt.xlabel(\"iter\", fontsize=14)\n",
    "    plt.ylabel(\"cost\", fontsize=14)\n",
    "    plt.plot(iters_param, train_costs_param,color='red',label='training cost') \n",
    "    plt.grid()\n",
    "    plt.show()\n",
    "    \n",
    "    \n",
    "# 开始训练\n",
    "with dygraph.guard():\n",
    "    EPOCH_NUM = 10000   # 设置外层循环次数\n",
    "    BATCH_SIZE = 404  # 设置batch大小\n",
    "    \n",
    "    # 定义外层循环\n",
    "    for epoch_id in range(EPOCH_NUM):\n",
    "        # 在每轮迭代开始之前，将训练数据的顺序随机的打乱\n",
    "        np.random.shuffle(training_data)\n",
    "        # 将训练数据进行拆分，每个batch包含BATCH_SIZE条数据\n",
    "        mini_batches = [training_data[k:k+BATCH_SIZE] for k in range(0, len(training_data), BATCH_SIZE)]\n",
    "        # 定义内层循环\n",
    "        for iter_id, mini_batch in enumerate(mini_batches):\n",
    "            x = np.array(mini_batch[:, :-1]).astype('float32') # 获得当前批次训练数据\n",
    "            y = np.array(mini_batch[:, -1:]).astype('float32') # 获得当前批次训练标签（真实房价）\n",
    "            # 将numpy数据转为飞桨动态图variable形式\n",
    "            house_features = dygraph.to_variable(x)\n",
    "            prices = dygraph.to_variable(y)\n",
    "            \n",
    "            # print(house_features)\n",
    "            # 前向计算\n",
    "            \n",
    "            predicts = model(house_features)\n",
    "            \n",
    "            # 计算损失\n",
    "            loss = fluid.layers.square_error_cost(predicts, label=prices)\n",
    "            avg_loss = fluid.layers.mean(loss)\n",
    "            # if iter_id%20==0:\n",
    "            #     print(\"epoch: {}, iter: {}, loss is: {}\".format(epoch_id, iter_id, avg_loss.numpy()))\n",
    "            \n",
    "            \n",
    "            iter=iter+1\n",
    "            iters.append(iter)\n",
    "            train_costs.append(avg_loss.numpy()[0])\n",
    "            \n",
    "            \n",
    "            # 反向传播\n",
    "            avg_loss.backward()\n",
    "            # 最小化loss,更新参数\n",
    "            opt.minimize(avg_loss)\n",
    "            # 清除梯度\n",
    "            model.clear_gradients()\n",
    "            \n",
    "    # 保存模型\n",
    "    fluid.save_dygraph(model.state_dict(), 'LR_model')\n",
    "    print(\"以参数 epoch: {0}, batch_size: {1} 训练完成.模型保存成功，模型参数保存在LR_model中\".format(EPOCH_NUM,BATCH_SIZE))\n",
    "    \n",
    "draw_train_process(iters,train_costs)\n",
    "    "
   ]
  },
  {
   "cell_type": "markdown",
   "metadata": {
    "pycharm": {
     "name": "#%% md\n"
    }
   },
   "source": [
    "### 5. 测试模型，对所有结果进行预测并画出图\n",
    "\n"
   ]
  },
  {
   "cell_type": "code",
   "execution_count": 5,
   "outputs": [
    {
     "name": "stdout",
     "text": [
      "预测结果 is [[8.063351]], 标签结果 is 8.5\n",
      "预测结果 is [[9.703434]], 标签结果 is 5.0\n",
      "预测结果 is [[5.968216]], 标签结果 is 11.9\n",
      "预测结果 is [[19.963814]], 标签结果 is 27.9\n",
      "预测结果 is [[12.429203]], 标签结果 is 17.2\n",
      "预测结果 is [[20.81434]], 标签结果 is 27.5\n",
      "预测结果 is [[16.703356]], 标签结果 is 15.0\n",
      "预测结果 is [[18.021067]], 标签结果 is 17.2\n",
      "预测结果 is [[0.04165268]], 标签结果 is 17.9\n",
      "预测结果 is [[11.143707]], 标签结果 is 16.3\n",
      "预测结果 is [[-4.4441757]], 标签结果 is 7.0\n",
      "预测结果 is [[11.30804]], 标签结果 is 7.199999999999999\n",
      "预测结果 is [[15.454807]], 标签结果 is 7.5\n",
      "预测结果 is [[7.2800655]], 标签结果 is 10.4\n",
      "预测结果 is [[9.168554]], 标签结果 is 8.8\n",
      "预测结果 is [[17.289066]], 标签结果 is 8.4\n",
      "预测结果 is [[21.396982]], 标签结果 is 16.7\n",
      "预测结果 is [[19.32442]], 标签结果 is 14.2\n",
      "预测结果 is [[18.431263]], 标签结果 is 20.8\n",
      "预测结果 is [[13.882022]], 标签结果 is 13.4\n",
      "预测结果 is [[14.697031]], 标签结果 is 11.7\n",
      "预测结果 is [[11.241514]], 标签结果 is 8.300000000000002\n",
      "预测结果 is [[16.821507]], 标签结果 is 10.2\n",
      "预测结果 is [[16.717302]], 标签结果 is 10.9\n",
      "预测结果 is [[15.630312]], 标签结果 is 11.0\n",
      "预测结果 is [[14.65843]], 标签结果 is 9.5\n",
      "预测结果 is [[18.882334]], 标签结果 is 14.5\n",
      "预测结果 is [[19.954376]], 标签结果 is 14.1\n",
      "预测结果 is [[22.571402]], 标签结果 is 16.1\n",
      "预测结果 is [[19.414867]], 标签结果 is 14.3\n",
      "预测结果 is [[18.281849]], 标签结果 is 11.7\n",
      "预测结果 is [[16.014956]], 标签结果 is 13.4\n",
      "预测结果 is [[17.419338]], 标签结果 is 9.6\n",
      "预测结果 is [[11.028912]], 标签结果 is 8.7\n",
      "预测结果 is [[6.3057537]], 标签结果 is 8.4\n",
      "预测结果 is [[13.634687]], 标签结果 is 12.8\n",
      "预测结果 is [[13.915702]], 标签结果 is 10.500000000000002\n",
      "预测结果 is [[19.06953]], 标签结果 is 17.1\n",
      "预测结果 is [[20.240389]], 标签结果 is 18.4\n",
      "预测结果 is [[19.905542]], 标签结果 is 15.4\n",
      "预测结果 is [[12.833725]], 标签结果 is 10.8\n",
      "预测结果 is [[14.482351]], 标签结果 is 11.800000000000002\n",
      "预测结果 is [[19.532452]], 标签结果 is 14.9\n",
      "预测结果 is [[19.912434]], 标签结果 is 12.6\n",
      "预测结果 is [[18.840103]], 标签结果 is 14.1\n",
      "预测结果 is [[18.91743]], 标签结果 is 13.0\n",
      "预测结果 is [[19.499859]], 标签结果 is 13.4\n",
      "预测结果 is [[21.349045]], 标签结果 is 15.2\n",
      "预测结果 is [[20.053133]], 标签结果 is 16.1\n",
      "预测结果 is [[25.401875]], 标签结果 is 17.8\n",
      "预测结果 is [[18.329922]], 标签结果 is 14.9\n",
      "预测结果 is [[18.3993]], 标签结果 is 14.1\n",
      "预测结果 is [[14.761218]], 标签结果 is 12.7\n",
      "预测结果 is [[15.219011]], 标签结果 is 13.5\n",
      "预测结果 is [[19.293585]], 标签结果 is 14.9\n",
      "预测结果 is [[20.048498]], 标签结果 is 20.0\n",
      "预测结果 is [[21.468227]], 标签结果 is 16.4\n",
      "预测结果 is [[21.897223]], 标签结果 is 17.7\n",
      "预测结果 is [[21.622017]], 标签结果 is 19.5\n",
      "预测结果 is [[24.66067]], 标签结果 is 20.2\n",
      "预测结果 is [[21.590042]], 标签结果 is 21.4\n",
      "预测结果 is [[18.712383]], 标签结果 is 19.9\n",
      "预测结果 is [[15.932061]], 标签结果 is 19.0\n",
      "预测结果 is [[16.62816]], 标签结果 is 19.1\n",
      "预测结果 is [[17.104801]], 标签结果 is 19.1\n",
      "预测结果 is [[18.439224]], 标签结果 is 20.1\n",
      "预测结果 is [[20.307102]], 标签结果 is 19.9\n",
      "预测结果 is [[22.78922]], 标签结果 is 19.6\n",
      "预测结果 is [[22.92166]], 标签结果 is 23.2\n",
      "预测结果 is [[27.078156]], 标签结果 is 29.8\n",
      "预测结果 is [[15.510456]], 标签结果 is 13.8\n",
      "预测结果 is [[15.810659]], 标签结果 is 13.3\n",
      "预测结果 is [[20.95625]], 标签结果 is 16.7\n",
      "预测结果 is [[10.614654]], 标签结果 is 12.0\n",
      "预测结果 is [[19.41286]], 标签结果 is 14.6\n",
      "预测结果 is [[22.322279]], 标签结果 is 21.4\n",
      "预测结果 is [[23.64771]], 标签结果 is 23.0\n",
      "预测结果 is [[27.928967]], 标签结果 is 23.7\n",
      "预测结果 is [[29.825233]], 标签结果 is 25.0\n",
      "预测结果 is [[21.045368]], 标签结果 is 21.8\n",
      "预测结果 is [[19.859436]], 标签结果 is 20.6\n",
      "预测结果 is [[23.363604]], 标签结果 is 21.2\n",
      "预测结果 is [[20.145649]], 标签结果 is 19.1\n",
      "预测结果 is [[21.54454]], 标签结果 is 20.6\n",
      "预测结果 is [[14.368862]], 标签结果 is 15.2\n",
      "预测结果 is [[10.538194]], 标签结果 is 7.0\n",
      "预测结果 is [[5.47645]], 标签结果 is 8.099999999999998\n",
      "预测结果 is [[16.914381]], 标签结果 is 13.6\n",
      "预测结果 is [[19.414948]], 标签结果 is 20.1\n",
      "预测结果 is [[20.654835]], 标签结果 is 21.8\n",
      "预测结果 is [[20.85927]], 标签结果 is 24.5\n",
      "预测结果 is [[16.926046]], 标签结果 is 23.1\n",
      "预测结果 is [[13.492403]], 标签结果 is 19.7\n",
      "预测结果 is [[19.393959]], 标签结果 is 18.3\n",
      "预测结果 is [[21.648792]], 标签结果 is 21.2\n",
      "预测结果 is [[18.172852]], 标签结果 is 17.5\n",
      "预测结果 is [[20.79073]], 标签结果 is 16.8\n",
      "预测结果 is [[24.602003]], 标签结果 is 22.4\n",
      "预测结果 is [[22.786432]], 标签结果 is 20.6\n",
      "预测结果 is [[29.085186]], 标签结果 is 23.9\n",
      "预测结果 is [[27.46927]], 标签结果 is 22.0\n",
      "预测结果 is [[22.803867]], 标签结果 is 11.9\n"
     ],
     "output_type": "stream"
    }
   ],
   "source": [
    "with dygraph.guard():\n",
    "    #所有预测结果\n",
    "    results = np.zeros(len(test_data))\n",
    "    labels = np.zeros(len(test_data))\n",
    "    model_dict, _ = fluid.load_dygraph(\"LR_model\")\n",
    "    model.load_dict(model_dict)\n",
    "    # 设置到预测状态\n",
    "    model.eval()\n",
    "    for j in range(0,len(test_data)):\n",
    "        current_test_data, label = load_one_example(j,test_data)\n",
    "        current_test_data = dygraph.to_variable(current_test_data)\n",
    "        result = model(current_test_data)\n",
    "        max_values = all_stastic[0]\n",
    "        min_values = all_stastic[1]\n",
    "        avg_values = all_stastic[2]\n",
    "        \n",
    "        result = result * (max_values[-1] - min_values[-1]) + avg_values[-1]\n",
    "        results[j] = result.numpy()\n",
    "        label = label * (max_values[-1] - min_values[-1]) + avg_values[-1]\n",
    "        labels[j] = label\n",
    "        \n",
    "        print(\"预测结果 is {}, 标签结果 is {}\".format(result.numpy(), label))\n",
    "\n"
   ],
   "metadata": {
    "collapsed": false,
    "pycharm": {
     "name": "#%%\n",
     "is_executing": false
    }
   }
  },
  {
   "cell_type": "markdown",
   "source": [
    "### 如何评价测试结果呢？\n",
    "\n",
    "#### 1.最常用的是“均方误差” "
   ],
   "metadata": {
    "collapsed": false,
    "pycharm": {
     "name": "#%% md\n",
     "is_executing": false
    }
   }
  },
  {
   "cell_type": "code",
   "execution_count": 6,
   "outputs": [
    {
     "name": "stdout",
     "text": [
      "mse: 21.60603418305056,  rmse: 4.648229144851893\n"
     ],
     "output_type": "stream"
    }
   ],
   "source": [
    "import math\n",
    "def get_mse(records_real, records_predict):\n",
    "    \"\"\"\n",
    "    均方误差 估计值与真值 偏差\n",
    "    \"\"\"\n",
    "    if len(records_real) == len(records_predict):\n",
    "        return sum([(x - y) ** 2 for x, y in zip(records_real, records_predict)]) / len(records_real)\n",
    "    else:\n",
    "        return None\n",
    "def get_rmse(records_real, records_predict):\n",
    "    \"\"\"\n",
    "    均方根误差：是均方误差的算术平方根\n",
    "    \"\"\"\n",
    "    mse = get_mse(records_real, records_predict)\n",
    "    if mse:\n",
    "        return math.sqrt(mse)\n",
    "    else:\n",
    "        return None\n",
    "\n",
    "mse = get_mse(labels,results)\n",
    "rmse = get_rmse(labels,results)\n",
    "print (\"mse: {0},  rmse: {1}\".format(mse, rmse))"
   ],
   "metadata": {
    "collapsed": false,
    "pycharm": {
     "name": "#%%\n",
     "is_executing": false
    }
   }
  },
  {
   "cell_type": "markdown",
   "source": [
    "#### 2.展示训练程度与泛化误差、偏差之间的关系\n",
    "> todo\n",
    "\n",
    "#### 3.问题点\n",
    "\n",
    "* 预测后有负值，未细调查原因\n",
    "\n"
   ],
   "metadata": {
    "collapsed": false
   }
  }
 ],
 "metadata": {
  "kernelspec": {
   "display_name": "Python 3",
   "language": "python",
   "name": "python3"
  },
  "language_info": {
   "codemirror_mode": {
    "name": "ipython",
    "version": 3
   },
   "file_extension": ".py",
   "mimetype": "text/x-python",
   "name": "python",
   "nbconvert_exporter": "python",
   "pygments_lexer": "ipython3",
   "version": "3.7.0"
  },
  "pycharm": {
   "stem_cell": {
    "cell_type": "raw",
    "source": [
     "\n"
    ],
    "metadata": {
     "collapsed": false
    }
   }
  },
  "toc": {
   "base_numbering": 1,
   "nav_menu": {},
   "number_sections": true,
   "sideBar": true,
   "skip_h1_title": false,
   "title_cell": "Table of Contents",
   "title_sidebar": "Contents",
   "toc_cell": false,
   "toc_position": {},
   "toc_section_display": true,
   "toc_window_display": false
  },
  "varInspector": {
   "cols": {
    "lenName": 16,
    "lenType": 16,
    "lenVar": 40
   },
   "kernels_config": {
    "python": {
     "delete_cmd_postfix": "",
     "delete_cmd_prefix": "del ",
     "library": "var_list.py",
     "varRefreshCmd": "print(var_dic_list())"
    },
    "r": {
     "delete_cmd_postfix": ") ",
     "delete_cmd_prefix": "rm(",
     "library": "var_list.r",
     "varRefreshCmd": "cat(var_dic_list()) "
    }
   },
   "types_to_exclude": [
    "module",
    "function",
    "builtin_function_or_method",
    "instance",
    "_Feature"
   ],
   "window_display": false
  }
 },
 "nbformat": 4,
 "nbformat_minor": 1
}