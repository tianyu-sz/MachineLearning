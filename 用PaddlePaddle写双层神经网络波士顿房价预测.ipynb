{
 "cells": [
  {
   "cell_type": "markdown",
   "metadata": {},
   "source": [
    "### 这篇是用 paddlepaddle 写房价预测\n",
    "\n",
    "\n",
    "\n"
   ]
  },
  {
   "cell_type": "code",
   "execution_count": 1,
   "metadata": {
    "collapsed": true,
    "pycharm": {
     "is_executing": false,
     "name": "#%%\n"
    }
   },
   "outputs": [],
   "source": [
    "\n",
    "#加载飞桨、Numpy和相关类库\n",
    "\n",
    "import matplotlib.pyplot as plt\n",
    "import numpy as np\n",
    "import paddle.fluid as fluid\n",
    "import paddle.fluid.dygraph as dygraph\n",
    "from paddle.fluid.dygraph import FC\n",
    "\n",
    "# 数据加载工具类\n",
    "from util.housing_util import load_data, load_one_example\n",
    "\n",
    "# 加载数据后的统计值变量，在 load_data 后设置，为最大，最小，平均。用于计算归一化值\n",
    "global all_stastic\n",
    "\n",
    "\n"
   ]
  },
  {
   "cell_type": "markdown",
   "metadata": {},
   "source": [
    "\n",
    "### 1.数据预处理 ，直接加载之前的工具类housing_util.py，一致的\n",
    "### 2.模型设计\n",
    "\n",
    "这里设计双层网络。一层输入层，一层隐层\n",
    "\n",
    "\n"
   ]
  },
  {
   "cell_type": "code",
   "execution_count": 2,
   "metadata": {
    "pycharm": {
     "is_executing": false,
     "name": "#%%\n"
    }
   },
   "outputs": [],
   "source": [
    "\n",
    "class Regressor(fluid.dygraph.Layer):\n",
    "    \n",
    "    def __init__(self, name_scope) :\n",
    "        super(Regressor,self).__init__(name_scope)\n",
    "        name_scope = self.full_name()\n",
    "        \n",
    "        # 定义全连接层，这里没加 bias。和设计的算法有点出入，后面看下API 说明加上\n",
    "        self.fc1 = FC(name_scope, size=13, act=None)\n",
    "        self.fc2 = FC(name_scope, size=1, act=None)\n",
    "        \n",
    "        \n",
    "    # 网络前向计算函数\n",
    "    def forward(self, inputs):\n",
    "        a_h = self.fc1(inputs)\n",
    "        y = self.fc2(a_h)\n",
    "        \n",
    "        return y\n",
    "    \n",
    "    \n",
    "\n",
    "        \n",
    "  \n",
    " "
   ]
  },
  {
   "cell_type": "markdown",
   "metadata": {
    "pycharm": {
     "name": "#%% md\n"
    }
   },
   "source": [
    "### 3.训练配置\n",
    "\n"
   ]
  },
  {
   "cell_type": "code",
   "execution_count": 3,
   "metadata": {
    "pycharm": {
     "is_executing": false,
     "name": "#%%\n"
    }
   },
   "outputs": [
    {
     "name": "stdout",
     "text": [
      "[array([ 88.9762, 100.    ,  25.65  ,   1.    ,   0.871 ,   8.78  ,\n",
      "       100.    ,  12.1265,  24.    , 666.    ,  22.    , 396.9   ,\n",
      "        37.97  ,  50.    ]), array([6.3200e-03, 0.0000e+00, 4.6000e-01, 0.0000e+00, 3.8500e-01,\n",
      "       3.5610e+00, 2.9000e+00, 1.1296e+00, 1.0000e+00, 1.8700e+02,\n",
      "       1.2600e+01, 7.0800e+01, 1.7300e+00, 5.0000e+00]), array([1.91589931e+00, 1.42326733e+01, 9.50232673e+00, 8.66336634e-02,\n",
      "       5.31731931e-01, 6.33310891e+00, 6.44274752e+01, 4.17421361e+00,\n",
      "       6.78960396e+00, 3.52910891e+02, 1.80262376e+01, 3.79971757e+02,\n",
      "       1.13549505e+01, 2.41757426e+01])]\n"
     ],
     "output_type": "stream"
    }
   ],
   "source": [
    "with fluid.dygraph.guard():\n",
    "    model = Regressor(\"Regressor\")\n",
    "    \n",
    "    # 开启模型训练模式\n",
    "    model.train()\n",
    "    \n",
    "    \n",
    "    # 加载数据\n",
    "    training_data, test_data , my_all_stastic = load_data()\n",
    "    \n",
    "    all_stastic = my_all_stastic\n",
    "    print(all_stastic)\n",
    "    # 学习率设置为 0.01\n",
    "    opt = fluid.optimizer.SGD(learning_rate=0.01)\n",
    "\n",
    "\n",
    "\n"
   ]
  },
  {
   "cell_type": "markdown",
   "metadata": {
    "pycharm": {
     "name": "#%% md\n"
    }
   },
   "source": [
    "\n",
    "### 4.训练并保存模型\n",
    "\n",
    "这里用的 mini-batch 方式直接copy 过来的\n",
    "\n",
    "\n"
   ]
  },
  {
   "cell_type": "code",
   "execution_count": 4,
   "metadata": {
    "pycharm": {
     "is_executing": false,
     "name": "#%% \n"
    }
   },
   "outputs": [
    {
     "name": "stdout",
     "text": [
      "以参数 epoch: 3000, batch_size: 404 训练完成.模型保存成功，模型参数保存在LR_model中\n"
     ],
     "output_type": "stream"
    },
    {
     "data": {
      "text/plain": "<Figure size 432x288 with 1 Axes>",
      "image/png": "[encoded data removed]"
     },
     "metadata": {
      "needs_background": "light"
     },
     "output_type": "display_data"
    }
   ],
   "source": [
    "\n",
    "# 这里定义一个训练过程绘图的函数\n",
    "iter=0\n",
    "iters=[]\n",
    "train_costs=[]\n",
    "\n",
    "def draw_train_process(iters_param, train_costs_param):\n",
    "    title=\"training cost\"\n",
    "    plt.title(title, fontsize=24)\n",
    "    plt.xlabel(\"iter\", fontsize=14)\n",
    "    plt.ylabel(\"cost\", fontsize=14)\n",
    "    plt.plot(iters_param, train_costs_param,color='red',label='training cost') \n",
    "    plt.grid()\n",
    "    plt.show()\n",
    "    \n",
    "    \n",
    "# 开始训练\n",
    "with dygraph.guard():\n",
    "    EPOCH_NUM = 3000   # 设置外层循环次数\n",
    "    BATCH_SIZE = 404  # 设置batch大小\n",
    "    \n",
    "    # 定义外层循环\n",
    "    for epoch_id in range(EPOCH_NUM):\n",
    "        # 在每轮迭代开始之前，将训练数据的顺序随机的打乱\n",
    "        np.random.shuffle(training_data)\n",
    "        # 将训练数据进行拆分，每个batch包含BATCH_SIZE条数据\n",
    "        mini_batches = [training_data[k:k+BATCH_SIZE] for k in range(0, len(training_data), BATCH_SIZE)]\n",
    "        # 定义内层循环\n",
    "        for iter_id, mini_batch in enumerate(mini_batches):\n",
    "            x = np.array(mini_batch[:, :-1]).astype('float32') # 获得当前批次训练数据\n",
    "            y = np.array(mini_batch[:, -1:]).astype('float32') # 获得当前批次训练标签（真实房价）\n",
    "            # 将numpy数据转为飞桨动态图variable形式\n",
    "            house_features = dygraph.to_variable(x)\n",
    "            prices = dygraph.to_variable(y)\n",
    "            \n",
    "            # print(house_features)\n",
    "            # 前向计算\n",
    "            \n",
    "            predicts = model(house_features)\n",
    "            \n",
    "            # 计算损失\n",
    "            loss = fluid.layers.square_error_cost(predicts, label=prices)\n",
    "            avg_loss = fluid.layers.mean(loss)\n",
    "            # if iter_id%20==0:\n",
    "            #     print(\"epoch: {}, iter: {}, loss is: {}\".format(epoch_id, iter_id, avg_loss.numpy()))\n",
    "            \n",
    "            \n",
    "            iter=iter+1\n",
    "            iters.append(iter)\n",
    "            train_costs.append(avg_loss.numpy()[0])\n",
    "            \n",
    "            \n",
    "            # 反向传播\n",
    "            avg_loss.backward()\n",
    "            # 最小化loss,更新参数\n",
    "            opt.minimize(avg_loss)\n",
    "            # 清除梯度\n",
    "            model.clear_gradients()\n",
    "            \n",
    "    # 保存模型\n",
    "    fluid.save_dygraph(model.state_dict(), 'LR_model')\n",
    "    print(\"以参数 epoch: {0}, batch_size: {1} 训练完成.模型保存成功，模型参数保存在LR_model中\".format(EPOCH_NUM,BATCH_SIZE))\n",
    "    \n",
    "draw_train_process(iters,train_costs)\n",
    "    "
   ]
  },
  {
   "cell_type": "markdown",
   "metadata": {
    "pycharm": {
     "name": "#%% md\n"
    }
   },
   "source": [
    "### 5. 测试模型，对所有结果进行预测并画出图\n",
    "\n"
   ]
  },
  {
   "cell_type": "code",
   "execution_count": 5,
   "outputs": [
    {
     "name": "stdout",
     "text": [
      "预测结果 is [[8.688714]], 标签结果 is 8.5\n",
      "预测结果 is [[12.171652]], 标签结果 is 5.0\n",
      "预测结果 is [[9.0675125]], 标签结果 is 11.9\n",
      "预测结果 is [[21.966484]], 标签结果 is 27.9\n",
      "预测结果 is [[12.819135]], 标签结果 is 17.2\n",
      "预测结果 is [[20.331078]], 标签结果 is 27.5\n",
      "预测结果 is [[19.98393]], 标签结果 is 15.0\n",
      "预测结果 is [[17.412174]], 标签结果 is 17.2\n",
      "预测结果 is [[0.9324875]], 标签结果 is 17.9\n",
      "预测结果 is [[13.684195]], 标签结果 is 16.3\n",
      "预测结果 is [[-3.2008476]], 标签结果 is 7.0\n",
      "预测结果 is [[9.806327]], 标签结果 is 7.199999999999999\n",
      "预测结果 is [[13.224648]], 标签结果 is 7.5\n",
      "预测结果 is [[7.6796837]], 标签结果 is 10.4\n",
      "预测结果 is [[11.323334]], 标签结果 is 8.8\n",
      "预测结果 is [[14.663634]], 标签结果 is 8.4\n",
      "预测结果 is [[21.66425]], 标签结果 is 16.7\n",
      "预测结果 is [[19.780182]], 标签结果 is 14.2\n",
      "预测结果 is [[20.079554]], 标签结果 is 20.8\n",
      "预测结果 is [[13.013143]], 标签结果 is 13.4\n",
      "预测结果 is [[15.06119]], 标签结果 is 11.7\n",
      "预测结果 is [[10.831143]], 标签结果 is 8.300000000000002\n",
      "预测结果 is [[16.68787]], 标签结果 is 10.2\n",
      "预测结果 is [[17.206173]], 标签结果 is 10.9\n",
      "预测结果 is [[14.333444]], 标签结果 is 11.0\n",
      "预测结果 is [[13.467388]], 标签结果 is 9.5\n",
      "预测结果 is [[18.76223]], 标签结果 is 14.5\n",
      "预测结果 is [[19.255823]], 标签结果 is 14.1\n",
      "预测结果 is [[22.59512]], 标签结果 is 16.1\n",
      "预测结果 is [[18.657864]], 标签结果 is 14.3\n",
      "预测结果 is [[18.521471]], 标签结果 is 11.7\n",
      "预测结果 is [[14.358965]], 标签结果 is 13.4\n",
      "预测结果 is [[16.53735]], 标签结果 is 9.6\n",
      "预测结果 is [[9.788955]], 标签结果 is 8.7\n",
      "预测结果 is [[4.0023766]], 标签结果 is 8.4\n",
      "预测结果 is [[13.767458]], 标签结果 is 12.8\n",
      "预测结果 is [[14.261715]], 标签结果 is 10.500000000000002\n",
      "预测结果 is [[18.684547]], 标签结果 is 17.1\n",
      "预测结果 is [[20.44752]], 标签结果 is 18.4\n",
      "预测结果 is [[19.576822]], 标签结果 is 15.4\n",
      "预测结果 is [[12.51576]], 标签结果 is 10.8\n",
      "预测结果 is [[12.821207]], 标签结果 is 11.800000000000002\n",
      "预测结果 is [[19.192276]], 标签结果 is 14.9\n",
      "预测结果 is [[20.162857]], 标签结果 is 12.6\n",
      "预测结果 is [[19.23302]], 标签结果 is 14.1\n",
      "预测结果 is [[18.570814]], 标签结果 is 13.0\n",
      "预测结果 is [[18.195879]], 标签结果 is 13.4\n",
      "预测结果 is [[20.913609]], 标签结果 is 15.2\n",
      "预测结果 is [[19.990114]], 标签结果 is 16.1\n",
      "预测结果 is [[24.222889]], 标签结果 is 17.8\n",
      "预测结果 is [[17.123812]], 标签结果 is 14.9\n",
      "预测结果 is [[17.153305]], 标签结果 is 14.1\n",
      "预测结果 is [[14.236275]], 标签结果 is 12.7\n",
      "预测结果 is [[14.893124]], 标签结果 is 13.5\n",
      "预测结果 is [[19.085052]], 标签结果 is 14.9\n",
      "预测结果 is [[20.52567]], 标签结果 is 20.0\n",
      "预测结果 is [[20.70402]], 标签结果 is 16.4\n",
      "预测结果 is [[21.937222]], 标签结果 is 17.7\n",
      "预测结果 is [[21.790123]], 标签结果 is 19.5\n",
      "预测结果 is [[25.25057]], 标签结果 is 20.2\n",
      "预测结果 is [[21.794888]], 标签结果 is 21.4\n",
      "预测结果 is [[18.565039]], 标签结果 is 19.9\n",
      "预测结果 is [[15.974087]], 标签结果 is 19.0\n",
      "预测结果 is [[17.306217]], 标签结果 is 19.1\n",
      "预测结果 is [[17.985073]], 标签结果 is 19.1\n",
      "预测结果 is [[19.42493]], 标签结果 is 20.1\n",
      "预测结果 is [[21.2533]], 标签结果 is 19.9\n",
      "预测结果 is [[24.614614]], 标签结果 is 19.6\n",
      "预测结果 is [[23.289011]], 标签结果 is 23.2\n",
      "预测结果 is [[26.39067]], 标签结果 is 29.8\n",
      "预测结果 is [[17.577751]], 标签结果 is 13.8\n",
      "预测结果 is [[15.940118]], 标签结果 is 13.3\n",
      "预测结果 is [[21.09358]], 标签结果 is 16.7\n",
      "预测结果 is [[12.057233]], 标签结果 is 12.0\n",
      "预测结果 is [[20.301037]], 标签结果 is 14.6\n",
      "预测结果 is [[23.49573]], 标签结果 is 21.4\n",
      "预测结果 is [[24.890694]], 标签结果 is 23.0\n",
      "预测结果 is [[29.152666]], 标签结果 is 23.7\n",
      "预测结果 is [[30.797571]], 标签结果 is 25.0\n",
      "预测结果 is [[22.197784]], 标签结果 is 21.8\n",
      "预测结果 is [[20.079193]], 标签结果 is 20.6\n",
      "预测结果 is [[23.828224]], 标签结果 is 21.2\n",
      "预测结果 is [[21.359465]], 标签结果 is 19.1\n",
      "预测结果 is [[22.308483]], 标签结果 is 20.6\n",
      "预测结果 is [[8.158737]], 标签结果 is 15.2\n",
      "预测结果 is [[3.770382]], 标签结果 is 7.0\n",
      "预测结果 is [[-1.5571499]], 标签结果 is 8.099999999999998\n",
      "预测结果 is [[10.1739645]], 标签结果 is 13.6\n",
      "预测结果 is [[12.758087]], 标签结果 is 20.1\n",
      "预测结果 is [[18.866468]], 标签结果 is 21.8\n",
      "预测结果 is [[18.125086]], 标签结果 is 24.5\n",
      "预测结果 is [[13.669336]], 标签结果 is 23.1\n",
      "预测结果 is [[11.909324]], 标签结果 is 19.7\n",
      "预测结果 is [[18.030304]], 标签结果 is 18.3\n",
      "预测结果 is [[19.740059]], 标签结果 is 21.2\n",
      "预测结果 is [[16.957794]], 标签结果 is 17.5\n",
      "预测结果 is [[19.278294]], 标签结果 is 16.8\n",
      "预测结果 is [[22.504639]], 标签结果 is 22.4\n",
      "预测结果 is [[21.685188]], 标签结果 is 20.6\n",
      "预测结果 is [[27.672216]], 标签结果 is 23.9\n",
      "预测结果 is [[26.221073]], 标签结果 is 22.0\n",
      "预测结果 is [[22.2095]], 标签结果 is 11.9\n"
     ],
     "output_type": "stream"
    }
   ],
   "source": [
    "with dygraph.guard():\n",
    "    #所有预测结果\n",
    "    results = np.zeros(len(test_data))\n",
    "    labels = np.zeros(len(test_data))\n",
    "    model_dict, _ = fluid.load_dygraph(\"LR_model\")\n",
    "    model.load_dict(model_dict)\n",
    "    # 设置到预测状态\n",
    "    model.eval()\n",
    "    for j in range(0,len(test_data)):\n",
    "        current_test_data, label = load_one_example(j,test_data)\n",
    "        current_test_data = dygraph.to_variable(current_test_data)\n",
    "        result = model(current_test_data)\n",
    "        max_values = all_stastic[0]\n",
    "        min_values = all_stastic[1]\n",
    "        avg_values = all_stastic[2]\n",
    "        \n",
    "        result = result * (max_values[-1] - min_values[-1]) + avg_values[-1]\n",
    "        results[j] = result.numpy()\n",
    "        label = label * (max_values[-1] - min_values[-1]) + avg_values[-1]\n",
    "        labels[j] = label\n",
    "        \n",
    "        print(\"预测结果 is {}, 标签结果 is {}\".format(result.numpy(), label))\n",
    "\n"
   ],
   "metadata": {
    "collapsed": false,
    "pycharm": {
     "name": "#%%\n",
     "is_executing": false
    }
   }
  },
  {
   "cell_type": "markdown",
   "source": [
    "### 如何评价测试结果呢？\n",
    "\n",
    "#### 1.最常用的是“均方误差” "
   ],
   "metadata": {
    "collapsed": false,
    "pycharm": {
     "name": "#%% md\n",
     "is_executing": false
    }
   }
  },
  {
   "cell_type": "code",
   "execution_count": 6,
   "outputs": [
    {
     "name": "stdout",
     "text": [
      "mse: 22.14281512734383,  rmse: 4.7056152761720575\n"
     ],
     "output_type": "stream"
    }
   ],
   "source": [
    "import math\n",
    "def get_mse(records_real, records_predict):\n",
    "    \"\"\"\n",
    "    均方误差 估计值与真值 偏差\n",
    "    \"\"\"\n",
    "    if len(records_real) == len(records_predict):\n",
    "        return sum([(x - y) ** 2 for x, y in zip(records_real, records_predict)]) / len(records_real)\n",
    "    else:\n",
    "        return None\n",
    "def get_rmse(records_real, records_predict):\n",
    "    \"\"\"\n",
    "    均方根误差：是均方误差的算术平方根\n",
    "    \"\"\"\n",
    "    mse = get_mse(records_real, records_predict)\n",
    "    if mse:\n",
    "        return math.sqrt(mse)\n",
    "    else:\n",
    "        return None\n",
    "\n",
    "mse = get_mse(labels,results)\n",
    "rmse = get_rmse(labels,results)\n",
    "print (\"mse: {0},  rmse: {1}\".format(mse, rmse))"
   ],
   "metadata": {
    "collapsed": false,
    "pycharm": {
     "name": "#%%\n",
     "is_executing": false
    }
   }
  },
  {
   "cell_type": "markdown",
   "source": [
    "#### 2.展示训练程度与泛化误差、偏差之间的关系\n",
    "> todo\n",
    "\n",
    "\n"
   ],
   "metadata": {
    "collapsed": false
   }
  }
 ],
 "metadata": {
  "kernelspec": {
   "display_name": "Python 3",
   "language": "python",
   "name": "python3"
  },
  "language_info": {
   "codemirror_mode": {
    "name": "ipython",
    "version": 3
   },
   "file_extension": ".py",
   "mimetype": "text/x-python",
   "name": "python",
   "nbconvert_exporter": "python",
   "pygments_lexer": "ipython3",
   "version": "3.7.0"
  },
  "pycharm": {
   "stem_cell": {
    "cell_type": "raw",
    "source": [
     "\n"
    ],
    "metadata": {
     "collapsed": false
    }
   }
  },
  "toc": {
   "base_numbering": 1,
   "nav_menu": {},
   "number_sections": true,
   "sideBar": true,
   "skip_h1_title": false,
   "title_cell": "Table of Contents",
   "title_sidebar": "Contents",
   "toc_cell": false,
   "toc_position": {},
   "toc_section_display": true,
   "toc_window_display": false
  },
  "varInspector": {
   "cols": {
    "lenName": 16,
    "lenType": 16,
    "lenVar": 40
   },
   "kernels_config": {
    "python": {
     "delete_cmd_postfix": "",
     "delete_cmd_prefix": "del ",
     "library": "var_list.py",
     "varRefreshCmd": "print(var_dic_list())"
    },
    "r": {
     "delete_cmd_postfix": ") ",
     "delete_cmd_prefix": "rm(",
     "library": "var_list.r",
     "varRefreshCmd": "cat(var_dic_list()) "
    }
   },
   "types_to_exclude": [
    "module",
    "function",
    "builtin_function_or_method",
    "instance",
    "_Feature"
   ],
   "window_display": false
  }
 },
 "nbformat": 4,
 "nbformat_minor": 1
}