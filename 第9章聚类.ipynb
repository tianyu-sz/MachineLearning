{
 "cells": [
  {
   "cell_type": "markdown",
   "metadata": {
    "collapsed": true,
    "pycharm": {
     "name": "#%% md\n"
    }
   },
   "source": [
    "## k-means 聚类算法\n",
    "\n"
   ]
  },
  {
   "cell_type": "code",
   "execution_count": 9,
   "outputs": [
    {
     "name": "stdout",
     "text": [
      "[[0.697, 0.46], [0.774, 0.376], [0.634, 0.264], [0.608, 0.318], [0.556, 0.215], [0.403, 0.237], [0.481, 0.149], [0.437, 0.211], [0.666, 0.091], [0.243, 0.267], [0.245, 0.057], [0.343, 0.099], [0.639, 0.161], [0.657, 0.198], [0.36, 0.37], [0.593, 0.042], [0.719, 0.103], [0.359, 0.188], [0.339, 0.241], [0.282, 0.257], [0.748, 0.232], [0.714, 0.346], [0.483, 0.312], [0.478, 0.437], [0.525, 0.369], [0.751, 0.489], [0.532, 0.472], [0.473, 0.376], [0.725, 0.445], [0.446, 0.459]]\n初始化变量为{x6,x12,x24}:  [[0.403, 0.237], [0.343, 0.099], [0.478, 0.437]]\n"
     ],
     "output_type": "stream"
    }
   ],
   "source": [
    "import watermelon_data\n",
    "\n",
    "# 得到 西瓜数据集 4.0\n",
    "dataset, labels, labels_full = watermelon_data.create_watermelon_dataset()\n",
    "print(dataset)\n",
    "\n",
    "\n",
    "def k_means():\n",
    "    \n",
    "    return 0\n",
    "\n",
    "\n",
    "# 先手工写\n",
    "\n",
    "# 定义初始化变量 x6,x12,x24\n",
    "u1 = dataset[6-1]\n",
    "u2 = dataset[12-1]\n",
    "u3 = dataset[24-1]\n",
    "\n",
    "print(\"初始化变量为{x6,x12,x24}: \",[u1,u2,u3])\n",
    "\n",
    "\n",
    "\n"
   ],
   "metadata": {
    "collapsed": false,
    "pycharm": {
     "name": "#%%\n",
     "is_executing": false
    }
   }
  }
 ],
 "metadata": {
  "language_info": {
   "codemirror_mode": {
    "name": "ipython",
    "version": 2
   },
   "file_extension": ".py",
   "mimetype": "text/x-python",
   "name": "python",
   "nbconvert_exporter": "python",
   "pygments_lexer": "ipython2",
   "version": "2.7.6"
  },
  "kernelspec": {
   "name": "python3",
   "language": "python",
   "display_name": "Python 3"
  },
  "pycharm": {
   "stem_cell": {
    "cell_type": "raw",
    "source": [],
    "metadata": {
     "collapsed": false
    }
   }
  }
 },
 "nbformat": 4,
 "nbformat_minor": 0
}