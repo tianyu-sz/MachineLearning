{
 "cells": [
  {
   "cell_type": "markdown",
   "source": [
    "### 西瓜书第四章 决策树\n",
    "\n",
    "这里做一遍西瓜决策树的划分\n",
    "* 信息熵公式 4.1\n",
    "* 信息增益公式 4.2\n",
    "* 著名的 ID3 决策树学习算法【Quinlan，1986】就是以信息增益为准则来选择划分属性\n",
    "\n",
    "### 西瓜样本集：D\n",
    "\n",
    "![西瓜样本集图片](resources/西瓜样本集图片.jpg)\n",
    "\n",
    "\n",
    "### 推导\n",
    "\n",
    "* 根节点信息熵 Ent(D)\n"
   ],
   "metadata": {
    "collapsed": false
   }
  },
  {
   "cell_type": "code",
   "execution_count": 8,
   "outputs": [
    {
     "name": "stdout",
     "text": [
      "根节点信息熵：Ent(D)= 0.9975025463691152\n"
     ],
     "output_type": "stream"
    }
   ],
   "source": [
    "from math import log2\n",
    "\n",
    "# 两类（正、反） 。其中正例 p1=8/17, p2=9/17\n",
    "p1 = 8/17\n",
    "p2 = 9/17\n",
    "Ent_D = -(p1 * log2(p1) + p2* log2(p2))\n",
    "\n",
    "print(\"根节点信息熵：Ent(D)=\",Ent_D)\n"
   ],
   "metadata": {
    "collapsed": false,
    "pycharm": {
     "name": "#%%\n",
     "is_executing": false
    }
   }
  },
  {
   "cell_type": "markdown",
   "source": [
    "* 属性：“色泽” = {青绿，乌黑，浅白}\n",
    "* 使用“色泽”属性对 D 进行划分，得到三个子集 D1={1+ 4+ 6+ 10- 13- 17-}、D2={2+ 3+ 7+ 8+ 9- 15-}、D3={5+ 11- 12- 14- 16-}\n",
    "* 计算使用“色泽”划分之后所获得的 3 个分支结点的信息熵分别为：\n"
   ],
   "metadata": {
    "collapsed": false
   }
  },
  {
   "cell_type": "code",
   "execution_count": 10,
   "outputs": [
    {
     "name": "stdout",
     "text": [
      "D1分支节点信息熵 Ent(D1)= 1.0\n"
     ],
     "output_type": "stream"
    }
   ],
   "source": [
    "p1_d1 = 3/6\n",
    "p2_d1 = 3/6\n",
    "Ent_D1 = -(p1_d1*log2(p1_d1) + p2_d1*log2(p2_d1)) \n",
    "print(\"D1分支节点信息熵 Ent(D1)=\" , Ent_D1)\n",
    "\n"
   ],
   "metadata": {
    "collapsed": false,
    "pycharm": {
     "name": "#%%\n",
     "is_executing": false
    }
   }
  },
  {
   "cell_type": "code",
   "execution_count": 17,
   "outputs": [
    {
     "name": "stdout",
     "text": [
      "D2分支节点信息熵 Ent(D2)= 0.9182958340544896\nD3分支节点信息熵 Ent(D3)= 0.7219280948873623\n"
     ],
     "output_type": "stream"
    }
   ],
   "source": [
    "\n",
    "### 定义样本集合信息熵计算函数\n",
    "### p 为样本中各分类所占比例[p1,p2,...pk]\n",
    "\n",
    "def ent_d(p=[]):\n",
    "    ent = 0\n",
    "    for p_i in p:\n",
    "        ent  = ent + p_i*log2(p_i)\n",
    "    \n",
    "    return -ent\n",
    "\n",
    "Ent_D2 = ent_d([4/6,2/6])\n",
    "Ent_D3 = ent_d([1/5,4/5])\n",
    "\n",
    "print(\"D2分支节点信息熵 Ent(D2)=\", Ent_D2)\n",
    "print(\"D3分支节点信息熵 Ent(D3)=\", Ent_D3)\n"
   ],
   "metadata": {
    "collapsed": false,
    "pycharm": {
     "name": "#%%\n",
     "is_executing": false
    }
   }
  },
  {
   "cell_type": "markdown",
   "source": [
    "* 信息增益Gain(D,a)为：（见公式 4.2）\n",
    "\n"
   ],
   "metadata": {
    "collapsed": false,
    "pycharm": {
     "name": "#%% md\n"
    }
   }
  },
  {
   "cell_type": "code",
   "execution_count": 18,
   "outputs": [
    {
     "name": "stdout",
     "text": [
      "0.1081251652653652\n"
     ],
     "output_type": "stream"
    }
   ],
   "source": [
    "\n",
    "Gain_Da = Ent_D - ( 6/17 * Ent_D1 + 6/17 * Ent_D2 + 5/17 * Ent_D3 )\n",
    "print(Gain_Da)\n"
   ],
   "metadata": {
    "collapsed": false,
    "pycharm": {
     "name": "#%%\n",
     "is_executing": false
    }
   }
  },
  {
   "cell_type": "code",
   "execution_count": null,
   "outputs": [],
   "source": [
    "\n",
    "\n",
    "\n"
   ],
   "metadata": {
    "collapsed": false,
    "pycharm": {
     "name": "#%%\n"
    }
   }
  }
 ],
 "metadata": {
  "language_info": {
   "codemirror_mode": {
    "name": "ipython",
    "version": 2
   },
   "file_extension": ".py",
   "mimetype": "text/x-python",
   "name": "python",
   "nbconvert_exporter": "python",
   "pygments_lexer": "ipython2",
   "version": "2.7.6"
  },
  "kernelspec": {
   "name": "python3",
   "language": "python",
   "display_name": "Python 3"
  },
  "pycharm": {
   "stem_cell": {
    "cell_type": "raw",
    "source": [],
    "metadata": {
     "collapsed": false
    }
   }
  }
 },
 "nbformat": 4,
 "nbformat_minor": 0
}