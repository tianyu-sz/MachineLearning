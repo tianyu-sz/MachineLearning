{
 "cells": [
  {
   "cell_type": "markdown",
   "source": [
    "# 手写双层的神经网络进行波士顿房价预测\n",
    "\n",
    " Paddle训练营有讲过单层的写法，这里写一下双层的\n",
    " \n",
    " \n",
    "### 构建神经网络\n"
   ],
   "metadata": {
    "collapsed": false
   }
  },
  {
   "cell_type": "code",
   "execution_count": 14,
   "outputs": [],
   "source": [
    "import numpy as np\n",
    "\n",
    "class MultiNetwork(object):\n",
    "    \n",
    "    def __init__(self, num_of_weights):\n",
    "        # 随机初始化 w\n",
    "        # 为保证每次运行结果一致，这里设置了固定随机数种子\n",
    "        np.random.seed(0)\n",
    "        \n",
    "        #这里有一层输入神经元，一层隐层分别定义权重为\n",
    "        self.num_of_weights = num_of_weights\n",
    "        self.v = np.random.randn(num_of_weights * num_of_weights,1).reshape(num_of_weights,num_of_weights)\n",
    "        self.w = np.random.randn(num_of_weights * 1 ,1)\n",
    "        \n",
    "        # 对应每层阈值\n",
    "        self.gamma = np.random.randn(num_of_weights,1) # γ\n",
    "        self.thet = 0.      # θ\n",
    "        \n",
    "   \n",
    "    def forward(self,x):\n",
    "        # 定义两层的前项计算\n",
    "        \n",
    "        # 隐层结果 bh\n",
    "        \n",
    "        # 注：这种写法不能使用 numpy 的批量处理\n",
    "        b_h = np.zeros(13)\n",
    "        for i in range(self.num_of_weights):\n",
    "            temp =  np.dot(x, self.v[i]) + self.gamma[i]\n",
    "            b_h[i] = temp\n",
    "        \n",
    "        # or\n",
    "        # b_h = np.dot(x,self.v) + self.gamma\n",
    "        \n",
    "        # print(\"隐层结果\",b_h)\n",
    "        \n",
    "        # 这里隐层结果 b_h 可以直接传给下一层，也可以使用 Sigmoid处理一下。\n",
    "        # 目前直接传到下层做下层输入，如下：\n",
    "        \n",
    "        # 输出层神经元，预测结果\n",
    "        _yk = np.dot(b_h,self.w) + self.thet\n",
    "        \n",
    "        return _yk, b_h\n",
    "        \n",
    "        \n",
    "    def loss(self, z, y):\n",
    "        # z,y 可以是向量\n",
    "        error = z-y\n",
    "        cost = error * error\n",
    "        cost = np.mean(cost)\n",
    "        return cost\n",
    "\n",
    "    def gradient(self, x , y ):\n",
    "        \n",
    "        _yk, b_h = self.forward(x)\n",
    "        \n",
    "        # g是中间变量，根据公式推导的简化变量\n",
    "        g = y-_yk\n",
    "        \n",
    "        gradient_w = g * b_h\n",
    "        #查格式化对齐\n",
    "        \n",
    "        gradient_thet = g\n",
    "        \n",
    "        \n",
    "        # 注：这种写法不能使用 numpy 广播\n",
    "        gradient_v = np.zeros([13,13])\n",
    "        for i in range(self.w.size):\n",
    "            gradient_v[i] = g * self.w[i] * x\n",
    "            \n",
    "        # gradient_v = g * self.w * x # 这个地方可能numpy 直接这样算的不对\n",
    "        \n",
    "        gradient_gamma = g * self.w\n",
    "        \n",
    "        return gradient_w, gradient_thet,gradient_v,gradient_gamma\n",
    "    \n",
    "\n",
    "\n",
    "\n",
    "\n",
    "\n",
    "\n",
    "multi_network = MultiNetwork(13)\n",
    "\n",
    "# print(\"第一层权重 v: \",multi_network.v,\"\\n 阈值 gamma：\",multi_network.gamma)\n",
    "# print(\"第二层权重 w: \",multi_network.w,\"\\n 阈值 thet：\",multi_network.thet)\n",
    " "
   ],
   "metadata": {
    "collapsed": false,
    "pycharm": {
     "name": "#%%\n",
     "is_executing": false
    }
   }
  },
  {
   "cell_type": "code",
   "execution_count": null,
   "outputs": [],
   "source": [
    "# 测试的代码\n",
    "\n",
    "# test_x = np.random.randn(13)\n",
    "# print(\"模拟测试数据test_x为: \",test_x)\n",
    "# y = [1]\n",
    "# z,b_n = multi_network.forward(test_x)\n",
    "# print('predict: ', z)\n",
    "# loss = multi_network.loss(z,y)\n",
    "# print(loss)\n",
    "# \n",
    "# # 最好再画个图\n",
    "# \n",
    "# \n",
    "# # 计算梯度\n",
    "# gradients =  multi_network.gradient(test_x,y)\n",
    "# \n",
    "# print (\"w层梯度\",gradients[0])\n",
    "# print (\"θ梯度\",gradients[1])\n",
    "# \n",
    "# print (\"v层梯度\",gradients[2])\n",
    "# print (\"gamma梯度\",gradients[3])\n",
    "\n"
   ],
   "metadata": {
    "collapsed": false,
    "pycharm": {
     "name": "#%%\n"
    }
   }
  },
  {
   "cell_type": "markdown",
   "source": [
    "\n",
    "### 定义加载数据\n"
   ],
   "metadata": {
    "collapsed": false,
    "pycharm": {
     "name": "#%% md\n",
     "is_executing": false
    }
   }
  },
  {
   "cell_type": "code",
   "execution_count": 15,
   "outputs": [],
   "source": [
    "def load_data():\n",
    "    # 从文件导入数据\n",
    "    datafile = 'resources/housing.data'\n",
    "    data = np.fromfile(datafile, sep=' ')\n",
    "\n",
    "    # 每条数据包括14项，其中前面13项是影响因素，第14项是相应的房屋价格中位数\n",
    "    feature_names = [ 'CRIM', 'ZN', 'INDUS', 'CHAS', 'NOX', 'RM', 'AGE', \\\n",
    "                      'DIS', 'RAD', 'TAX', 'PTRATIO', 'B', 'LSTAT', 'MEDV' ]\n",
    "    feature_num = len(feature_names)\n",
    "\n",
    "    # 将原始数据进行Reshape，变成[N, 14]这样的形状\n",
    "    data = data.reshape([data.shape[0] // feature_num, feature_num])\n",
    "\n",
    "    # 将原数据集拆分成训练集和测试集\n",
    "    # 这里使用80%的数据做训练，20%的数据做测试\n",
    "    # 测试集和训练集必须是没有交集的\n",
    "    ratio = 0.8\n",
    "    offset = int(data.shape[0] * ratio)\n",
    "    training_data = data[:offset]\n",
    "\n",
    "    # 计算train数据集的最大值，最小值，平均值\n",
    "    maximums, minimums, avgs = training_data.max(axis=0), training_data.min(axis=0), \\\n",
    "                                 training_data.sum(axis=0) / training_data.shape[0]\n",
    "\n",
    "    # 对数据进行归一化处理\n",
    "    for i in range(feature_num):\n",
    "        #print(maximums[i], minimums[i], avgs[i])\n",
    "        data[:, i] = (data[:, i] - avgs[i]) / (maximums[i] - minimums[i])\n",
    "\n",
    "    # 训练集和测试集的划分比例\n",
    "    training_data = data[:offset]\n",
    "    test_data = data[offset:]\n",
    "    return training_data, test_data\n",
    "\n"
   ],
   "metadata": {
    "collapsed": false,
    "pycharm": {
     "name": "#%%\n",
     "is_executing": false
    }
   }
  },
  {
   "cell_type": "markdown",
   "source": [
    "### 获取数据\n",
    "> 这里数据放在了 resource 下的 housing.data\n"
   ],
   "metadata": {
    "collapsed": false
   }
  },
  {
   "cell_type": "code",
   "execution_count": 16,
   "outputs": [
    {
     "name": "stdout",
     "text": [
      "[-0.02146321  0.03767327 -0.28552309 -0.08663366  0.01289726  0.04634817\n  0.00795597 -0.00765794 -0.25172191 -0.11881188 -0.29002528  0.0519112\n -0.17590923]\n[-0.00390539]\n"
     ],
     "output_type": "stream"
    }
   ],
   "source": [
    "training_data, test_data = load_data()\n",
    "x = training_data[:,:-1]\n",
    "y = training_data[:,-1:]\n",
    "print(x[0])\n",
    "print(y[0])\n",
    "\n"
   ],
   "metadata": {
    "collapsed": false,
    "pycharm": {
     "name": "#%%\n",
     "is_executing": false
    }
   }
  },
  {
   "cell_type": "markdown",
   "source": [
    "### 每次使用1条数据测试下\n",
    ">目前用 numpy 的广播机制没调试好\n"
   ],
   "metadata": {
    "collapsed": false
   }
  },
  {
   "cell_type": "code",
   "execution_count": 17,
   "outputs": [
    {
     "name": "stdout",
     "text": [
      "x [-0.02146321  0.03767327 -0.28552309 -0.08663366  0.01289726  0.04634817\n  0.00795597 -0.00765794 -0.25172191 -0.11881188 -0.29002528  0.0519112\n -0.17590923], shape (13,)\ny [-0.00390539], shape (1,)\nz [-4.5899854], shape (1,)\n[-5.84928579 -9.57440199 -0.35484424 -5.18668274 -3.79429499  2.2511544\n -1.75711525  4.89430493 -4.43775868 -2.15837976  3.08573478 -6.07094353\n  5.1498    ]\n"
     ],
     "output_type": "stream"
    }
   ],
   "source": [
    "x1samples = x[0]\n",
    "y1samples = y[0]\n",
    "z1samples,b_h = multi_network.forward(x1samples)\n",
    "\n",
    "print('x {}, shape {}'.format(x1samples, x1samples.shape))\n",
    "print('y {}, shape {}'.format(y1samples, y1samples.shape))\n",
    "print('z {}, shape {}'.format(z1samples, z1samples.shape))\n",
    "\n",
    "gradients = multi_network.gradient(x1samples,y1samples)\n",
    "print(gradients[0])"
   ],
   "metadata": {
    "collapsed": false,
    "pycharm": {
     "name": "#%%\n",
     "is_executing": false
    }
   }
  }
 ],
 "metadata": {
  "language_info": {
   "codemirror_mode": {
    "name": "ipython",
    "version": 2
   },
   "file_extension": ".py",
   "mimetype": "text/x-python",
   "name": "python",
   "nbconvert_exporter": "python",
   "pygments_lexer": "ipython2",
   "version": "2.7.6"
  },
  "kernelspec": {
   "name": "python3",
   "language": "python",
   "display_name": "Python 3"
  },
  "pycharm": {
   "stem_cell": {
    "cell_type": "raw",
    "source": [],
    "metadata": {
     "collapsed": false
    }
   }
  }
 },
 "nbformat": 4,
 "nbformat_minor": 0
}